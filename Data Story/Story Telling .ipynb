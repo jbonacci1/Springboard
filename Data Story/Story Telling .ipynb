{
 "cells": [
  {
   "cell_type": "code",
   "execution_count": 2,
   "metadata": {},
   "outputs": [],
   "source": [
    "# Importing pandas for data wrangling and matplotlib for graphing\n",
    "import pandas as pd\n",
    "import matplotlib.pyplot as plt\n",
    "# Reading dataset into python\n",
    "orig_data = pd.read_csv('/Users/jackbonacci/Downloads/train.csv')"
   ]
  },
  {
   "cell_type": "code",
   "execution_count": 3,
   "metadata": {},
   "outputs": [],
   "source": [
    "# Cleaning dataset exactly how I did for previous project assignment\n",
    "trimmed_data = orig_data.drop(columns=['id', 'first_review', 'last_review', 'neighbourhood', 'thumbnail_url', 'number_of_reviews'])\n",
    "complete = trimmed_data.dropna()"
   ]
  },
  {
   "cell_type": "code",
   "execution_count": 4,
   "metadata": {},
   "outputs": [
    {
     "data": {
      "text/html": [
       "<div>\n",
       "<style scoped>\n",
       "    .dataframe tbody tr th:only-of-type {\n",
       "        vertical-align: middle;\n",
       "    }\n",
       "\n",
       "    .dataframe tbody tr th {\n",
       "        vertical-align: top;\n",
       "    }\n",
       "\n",
       "    .dataframe thead th {\n",
       "        text-align: right;\n",
       "    }\n",
       "</style>\n",
       "<table border=\"1\" class=\"dataframe\">\n",
       "  <thead>\n",
       "    <tr style=\"text-align: right;\">\n",
       "      <th></th>\n",
       "      <th>log_price</th>\n",
       "      <th>property_type</th>\n",
       "      <th>room_type</th>\n",
       "      <th>amenities</th>\n",
       "      <th>accommodates</th>\n",
       "      <th>bathrooms</th>\n",
       "      <th>bed_type</th>\n",
       "      <th>cancellation_policy</th>\n",
       "      <th>cleaning_fee</th>\n",
       "      <th>city</th>\n",
       "      <th>...</th>\n",
       "      <th>host_response_rate</th>\n",
       "      <th>host_since</th>\n",
       "      <th>instant_bookable</th>\n",
       "      <th>latitude</th>\n",
       "      <th>longitude</th>\n",
       "      <th>name</th>\n",
       "      <th>review_scores_rating</th>\n",
       "      <th>zipcode</th>\n",
       "      <th>bedrooms</th>\n",
       "      <th>beds</th>\n",
       "    </tr>\n",
       "  </thead>\n",
       "  <tbody>\n",
       "    <tr>\n",
       "      <th>count</th>\n",
       "      <td>47249.000000</td>\n",
       "      <td>47249</td>\n",
       "      <td>47249</td>\n",
       "      <td>47249</td>\n",
       "      <td>47249.000000</td>\n",
       "      <td>47249.000000</td>\n",
       "      <td>47249</td>\n",
       "      <td>47249</td>\n",
       "      <td>47249</td>\n",
       "      <td>47249</td>\n",
       "      <td>...</td>\n",
       "      <td>47249</td>\n",
       "      <td>47249</td>\n",
       "      <td>47249</td>\n",
       "      <td>47249.000000</td>\n",
       "      <td>47249.000000</td>\n",
       "      <td>47249</td>\n",
       "      <td>47249.000000</td>\n",
       "      <td>47249</td>\n",
       "      <td>47249.000000</td>\n",
       "      <td>47249.000000</td>\n",
       "    </tr>\n",
       "    <tr>\n",
       "      <th>unique</th>\n",
       "      <td>NaN</td>\n",
       "      <td>32</td>\n",
       "      <td>3</td>\n",
       "      <td>43830</td>\n",
       "      <td>NaN</td>\n",
       "      <td>NaN</td>\n",
       "      <td>5</td>\n",
       "      <td>5</td>\n",
       "      <td>2</td>\n",
       "      <td>6</td>\n",
       "      <td>...</td>\n",
       "      <td>77</td>\n",
       "      <td>3004</td>\n",
       "      <td>2</td>\n",
       "      <td>NaN</td>\n",
       "      <td>NaN</td>\n",
       "      <td>46952</td>\n",
       "      <td>NaN</td>\n",
       "      <td>710</td>\n",
       "      <td>NaN</td>\n",
       "      <td>NaN</td>\n",
       "    </tr>\n",
       "    <tr>\n",
       "      <th>top</th>\n",
       "      <td>NaN</td>\n",
       "      <td>Apartment</td>\n",
       "      <td>Entire home/apt</td>\n",
       "      <td>{}</td>\n",
       "      <td>NaN</td>\n",
       "      <td>NaN</td>\n",
       "      <td>Real Bed</td>\n",
       "      <td>strict</td>\n",
       "      <td>True</td>\n",
       "      <td>NYC</td>\n",
       "      <td>...</td>\n",
       "      <td>100%</td>\n",
       "      <td>2014-02-14</td>\n",
       "      <td>f</td>\n",
       "      <td>NaN</td>\n",
       "      <td>NaN</td>\n",
       "      <td>Bunk bed in the Treat Street Clubhouse</td>\n",
       "      <td>NaN</td>\n",
       "      <td>90291</td>\n",
       "      <td>NaN</td>\n",
       "      <td>NaN</td>\n",
       "    </tr>\n",
       "    <tr>\n",
       "      <th>freq</th>\n",
       "      <td>NaN</td>\n",
       "      <td>29652</td>\n",
       "      <td>27125</td>\n",
       "      <td>122</td>\n",
       "      <td>NaN</td>\n",
       "      <td>NaN</td>\n",
       "      <td>45982</td>\n",
       "      <td>24407</td>\n",
       "      <td>38838</td>\n",
       "      <td>19165</td>\n",
       "      <td>...</td>\n",
       "      <td>37369</td>\n",
       "      <td>153</td>\n",
       "      <td>33373</td>\n",
       "      <td>NaN</td>\n",
       "      <td>NaN</td>\n",
       "      <td>8</td>\n",
       "      <td>NaN</td>\n",
       "      <td>972</td>\n",
       "      <td>NaN</td>\n",
       "      <td>NaN</td>\n",
       "    </tr>\n",
       "    <tr>\n",
       "      <th>mean</th>\n",
       "      <td>4.750929</td>\n",
       "      <td>NaN</td>\n",
       "      <td>NaN</td>\n",
       "      <td>NaN</td>\n",
       "      <td>3.324409</td>\n",
       "      <td>1.239878</td>\n",
       "      <td>NaN</td>\n",
       "      <td>NaN</td>\n",
       "      <td>NaN</td>\n",
       "      <td>NaN</td>\n",
       "      <td>...</td>\n",
       "      <td>NaN</td>\n",
       "      <td>NaN</td>\n",
       "      <td>NaN</td>\n",
       "      <td>38.364100</td>\n",
       "      <td>-93.218728</td>\n",
       "      <td>NaN</td>\n",
       "      <td>94.216386</td>\n",
       "      <td>NaN</td>\n",
       "      <td>1.281466</td>\n",
       "      <td>1.794683</td>\n",
       "    </tr>\n",
       "    <tr>\n",
       "      <th>std</th>\n",
       "      <td>0.675137</td>\n",
       "      <td>NaN</td>\n",
       "      <td>NaN</td>\n",
       "      <td>NaN</td>\n",
       "      <td>2.236491</td>\n",
       "      <td>0.582830</td>\n",
       "      <td>NaN</td>\n",
       "      <td>NaN</td>\n",
       "      <td>NaN</td>\n",
       "      <td>NaN</td>\n",
       "      <td>...</td>\n",
       "      <td>NaN</td>\n",
       "      <td>NaN</td>\n",
       "      <td>NaN</td>\n",
       "      <td>3.149020</td>\n",
       "      <td>21.707139</td>\n",
       "      <td>NaN</td>\n",
       "      <td>7.216313</td>\n",
       "      <td>NaN</td>\n",
       "      <td>0.864653</td>\n",
       "      <td>1.321989</td>\n",
       "    </tr>\n",
       "    <tr>\n",
       "      <th>min</th>\n",
       "      <td>0.000000</td>\n",
       "      <td>NaN</td>\n",
       "      <td>NaN</td>\n",
       "      <td>NaN</td>\n",
       "      <td>1.000000</td>\n",
       "      <td>0.000000</td>\n",
       "      <td>NaN</td>\n",
       "      <td>NaN</td>\n",
       "      <td>NaN</td>\n",
       "      <td>NaN</td>\n",
       "      <td>...</td>\n",
       "      <td>NaN</td>\n",
       "      <td>NaN</td>\n",
       "      <td>NaN</td>\n",
       "      <td>33.338905</td>\n",
       "      <td>-122.511500</td>\n",
       "      <td>NaN</td>\n",
       "      <td>20.000000</td>\n",
       "      <td>NaN</td>\n",
       "      <td>0.000000</td>\n",
       "      <td>0.000000</td>\n",
       "    </tr>\n",
       "    <tr>\n",
       "      <th>25%</th>\n",
       "      <td>4.304065</td>\n",
       "      <td>NaN</td>\n",
       "      <td>NaN</td>\n",
       "      <td>NaN</td>\n",
       "      <td>2.000000</td>\n",
       "      <td>1.000000</td>\n",
       "      <td>NaN</td>\n",
       "      <td>NaN</td>\n",
       "      <td>NaN</td>\n",
       "      <td>NaN</td>\n",
       "      <td>...</td>\n",
       "      <td>NaN</td>\n",
       "      <td>NaN</td>\n",
       "      <td>NaN</td>\n",
       "      <td>34.107355</td>\n",
       "      <td>-118.345112</td>\n",
       "      <td>NaN</td>\n",
       "      <td>92.000000</td>\n",
       "      <td>NaN</td>\n",
       "      <td>1.000000</td>\n",
       "      <td>1.000000</td>\n",
       "    </tr>\n",
       "    <tr>\n",
       "      <th>50%</th>\n",
       "      <td>4.700480</td>\n",
       "      <td>NaN</td>\n",
       "      <td>NaN</td>\n",
       "      <td>NaN</td>\n",
       "      <td>2.000000</td>\n",
       "      <td>1.000000</td>\n",
       "      <td>NaN</td>\n",
       "      <td>NaN</td>\n",
       "      <td>NaN</td>\n",
       "      <td>NaN</td>\n",
       "      <td>...</td>\n",
       "      <td>NaN</td>\n",
       "      <td>NaN</td>\n",
       "      <td>NaN</td>\n",
       "      <td>40.650424</td>\n",
       "      <td>-77.026028</td>\n",
       "      <td>NaN</td>\n",
       "      <td>96.000000</td>\n",
       "      <td>NaN</td>\n",
       "      <td>1.000000</td>\n",
       "      <td>1.000000</td>\n",
       "    </tr>\n",
       "    <tr>\n",
       "      <th>75%</th>\n",
       "      <td>5.164786</td>\n",
       "      <td>NaN</td>\n",
       "      <td>NaN</td>\n",
       "      <td>NaN</td>\n",
       "      <td>4.000000</td>\n",
       "      <td>1.000000</td>\n",
       "      <td>NaN</td>\n",
       "      <td>NaN</td>\n",
       "      <td>NaN</td>\n",
       "      <td>NaN</td>\n",
       "      <td>...</td>\n",
       "      <td>NaN</td>\n",
       "      <td>NaN</td>\n",
       "      <td>NaN</td>\n",
       "      <td>40.750943</td>\n",
       "      <td>-73.954662</td>\n",
       "      <td>NaN</td>\n",
       "      <td>99.000000</td>\n",
       "      <td>NaN</td>\n",
       "      <td>1.000000</td>\n",
       "      <td>2.000000</td>\n",
       "    </tr>\n",
       "    <tr>\n",
       "      <th>max</th>\n",
       "      <td>7.600402</td>\n",
       "      <td>NaN</td>\n",
       "      <td>NaN</td>\n",
       "      <td>NaN</td>\n",
       "      <td>16.000000</td>\n",
       "      <td>8.000000</td>\n",
       "      <td>NaN</td>\n",
       "      <td>NaN</td>\n",
       "      <td>NaN</td>\n",
       "      <td>NaN</td>\n",
       "      <td>...</td>\n",
       "      <td>NaN</td>\n",
       "      <td>NaN</td>\n",
       "      <td>NaN</td>\n",
       "      <td>42.390437</td>\n",
       "      <td>-71.000462</td>\n",
       "      <td>NaN</td>\n",
       "      <td>100.000000</td>\n",
       "      <td>NaN</td>\n",
       "      <td>10.000000</td>\n",
       "      <td>18.000000</td>\n",
       "    </tr>\n",
       "  </tbody>\n",
       "</table>\n",
       "<p>11 rows × 23 columns</p>\n",
       "</div>"
      ],
      "text/plain": [
       "           log_price property_type        room_type amenities  accommodates  \\\n",
       "count   47249.000000         47249            47249     47249  47249.000000   \n",
       "unique           NaN            32                3     43830           NaN   \n",
       "top              NaN     Apartment  Entire home/apt        {}           NaN   \n",
       "freq             NaN         29652            27125       122           NaN   \n",
       "mean        4.750929           NaN              NaN       NaN      3.324409   \n",
       "std         0.675137           NaN              NaN       NaN      2.236491   \n",
       "min         0.000000           NaN              NaN       NaN      1.000000   \n",
       "25%         4.304065           NaN              NaN       NaN      2.000000   \n",
       "50%         4.700480           NaN              NaN       NaN      2.000000   \n",
       "75%         5.164786           NaN              NaN       NaN      4.000000   \n",
       "max         7.600402           NaN              NaN       NaN     16.000000   \n",
       "\n",
       "           bathrooms  bed_type cancellation_policy cleaning_fee   city  \\\n",
       "count   47249.000000     47249               47249        47249  47249   \n",
       "unique           NaN         5                   5            2      6   \n",
       "top              NaN  Real Bed              strict         True    NYC   \n",
       "freq             NaN     45982               24407        38838  19165   \n",
       "mean        1.239878       NaN                 NaN          NaN    NaN   \n",
       "std         0.582830       NaN                 NaN          NaN    NaN   \n",
       "min         0.000000       NaN                 NaN          NaN    NaN   \n",
       "25%         1.000000       NaN                 NaN          NaN    NaN   \n",
       "50%         1.000000       NaN                 NaN          NaN    NaN   \n",
       "75%         1.000000       NaN                 NaN          NaN    NaN   \n",
       "max         8.000000       NaN                 NaN          NaN    NaN   \n",
       "\n",
       "            ...      host_response_rate  host_since instant_bookable  \\\n",
       "count       ...                   47249       47249            47249   \n",
       "unique      ...                      77        3004                2   \n",
       "top         ...                    100%  2014-02-14                f   \n",
       "freq        ...                   37369         153            33373   \n",
       "mean        ...                     NaN         NaN              NaN   \n",
       "std         ...                     NaN         NaN              NaN   \n",
       "min         ...                     NaN         NaN              NaN   \n",
       "25%         ...                     NaN         NaN              NaN   \n",
       "50%         ...                     NaN         NaN              NaN   \n",
       "75%         ...                     NaN         NaN              NaN   \n",
       "max         ...                     NaN         NaN              NaN   \n",
       "\n",
       "            latitude     longitude                                    name  \\\n",
       "count   47249.000000  47249.000000                                   47249   \n",
       "unique           NaN           NaN                                   46952   \n",
       "top              NaN           NaN  Bunk bed in the Treat Street Clubhouse   \n",
       "freq             NaN           NaN                                       8   \n",
       "mean       38.364100    -93.218728                                     NaN   \n",
       "std         3.149020     21.707139                                     NaN   \n",
       "min        33.338905   -122.511500                                     NaN   \n",
       "25%        34.107355   -118.345112                                     NaN   \n",
       "50%        40.650424    -77.026028                                     NaN   \n",
       "75%        40.750943    -73.954662                                     NaN   \n",
       "max        42.390437    -71.000462                                     NaN   \n",
       "\n",
       "        review_scores_rating  zipcode      bedrooms          beds  \n",
       "count           47249.000000    47249  47249.000000  47249.000000  \n",
       "unique                   NaN      710           NaN           NaN  \n",
       "top                      NaN    90291           NaN           NaN  \n",
       "freq                     NaN      972           NaN           NaN  \n",
       "mean               94.216386      NaN      1.281466      1.794683  \n",
       "std                 7.216313      NaN      0.864653      1.321989  \n",
       "min                20.000000      NaN      0.000000      0.000000  \n",
       "25%                92.000000      NaN      1.000000      1.000000  \n",
       "50%                96.000000      NaN      1.000000      1.000000  \n",
       "75%                99.000000      NaN      1.000000      2.000000  \n",
       "max               100.000000      NaN     10.000000     18.000000  \n",
       "\n",
       "[11 rows x 23 columns]"
      ]
     },
     "execution_count": 4,
     "metadata": {},
     "output_type": "execute_result"
    }
   ],
   "source": [
    "# Viewing descriptive statistics\n",
    "complete.describe(include='all')\n",
    "# Have a low outlier in log_price (0) that I need to get rid of. "
   ]
  },
  {
   "cell_type": "code",
   "execution_count": 5,
   "metadata": {
    "scrolled": true
   },
   "outputs": [
    {
     "name": "stdout",
     "output_type": "stream",
     "text": [
      "19126\n"
     ]
    }
   ],
   "source": [
    "# Counting how many units are west of the Mississippi River. \n",
    "print((complete['longitude']<= -89.978027).sum())"
   ]
  },
  {
   "cell_type": "code",
   "execution_count": 6,
   "metadata": {},
   "outputs": [
    {
     "data": {
      "image/png": "[encoded data removed]",
      "text/plain": [
       "<Figure size 432x288 with 1 Axes>"
      ]
     },
     "metadata": {},
     "output_type": "display_data"
    }
   ],
   "source": [
    "plt.scatter(complete['longitude'], complete['latitude'], 10, marker ='o', color='red')\n",
    "plt.show()\n",
    "# Units are in 6 total metropolitan areas- LA, SF, CHI, DC, NYC, BOS.\n",
    "# Important becuase only having metropolitan rentals is telling of the type of trip someone is going on. Not the best sample. "
   ]
  },
  {
   "cell_type": "code",
   "execution_count": 7,
   "metadata": {},
   "outputs": [
    {
     "name": "stdout",
     "output_type": "stream",
     "text": [
      "357\n"
     ]
    }
   ],
   "source": [
    "# There are 357 units that have more than the average amount of bedrooms and bathrooms but are priced below the average.\n",
    "print(((complete['log_price']<= 4.750929) & (complete['bedrooms']>1.281466) & (complete['bathrooms']>1.239878)).sum())"
   ]
  },
  {
   "cell_type": "code",
   "execution_count": 8,
   "metadata": {},
   "outputs": [
    {
     "name": "stdout",
     "output_type": "stream",
     "text": [
      "9697\n",
      "14993\n"
     ]
    }
   ],
   "source": [
    "# (9697/47249) = 20.5% of units are west of the Mississippi and are priced below the average\n",
    "print(((complete['log_price']<= 4.750929) & (complete['longitude']<= -89.978027)).sum())\n",
    "# (14993/47249) = 31.7% of units are east of the Mississippi and are price below the average. \n",
    "print(((complete['log_price']<= 4.750929) & (complete['longitude']> -89.978027)).sum())"
   ]
  },
  {
   "cell_type": "code",
   "execution_count": 13,
   "metadata": {},
   "outputs": [
    {
     "name": "stdout",
     "output_type": "stream",
     "text": [
      "0.5070061696120465\n",
      "0.5331579134516232\n"
     ]
    },
    {
     "data": {
      "text/plain": [
       "0.5225507418146416"
      ]
     },
     "execution_count": 13,
     "metadata": {},
     "output_type": "execute_result"
    }
   ],
   "source": [
    "print(9697/19126)\n",
    "print(14994/(47249-19126))\n",
    "# number of units below the average price\n",
    "(9697+14993)/47249\n",
    "# Slightly skewed to the right"
   ]
  },
  {
   "cell_type": "code",
   "execution_count": 10,
   "metadata": {},
   "outputs": [
    {
     "data": {
      "image/png": "[encoded data removed]",
      "text/plain": [
       "<Figure size 432x288 with 1 Axes>"
      ]
     },
     "metadata": {},
     "output_type": "display_data"
    }
   ],
   "source": [
    "#Checking skew\n",
    "plt.hist(complete['log_price'], bins=100)\n",
    "plt.show()"
   ]
  },
  {
   "cell_type": "code",
   "execution_count": 11,
   "metadata": {},
   "outputs": [
    {
     "data": {
      "image/png": "[encoded data removed]",
      "text/plain": [
       "<Figure size 432x288 with 1 Axes>"
      ]
     },
     "metadata": {},
     "output_type": "display_data"
    }
   ],
   "source": [
    "# Some data points don't make any sense (i.e. 0 bedrooms and 8 bathrooms)\n",
    "plt.scatter(complete['bedrooms'], complete['bathrooms'])\n",
    "plt.xlabel('bedrooms')\n",
    "plt.ylabel('bathrooms')\n",
    "plt.show()"
   ]
  },
  {
   "cell_type": "code",
   "execution_count": 86,
   "metadata": {
    "collapsed": true
   },
   "outputs": [
    {
     "ename": "TypeError",
     "evalue": "cannot convert the series to <class 'float'>",
     "output_type": "error",
     "traceback": [
      "\u001b[0;31m---------------------------------------------------------------------------\u001b[0m",
      "\u001b[0;31mTypeError\u001b[0m                                 Traceback (most recent call last)",
      "\u001b[0;32m<ipython-input-86-a10d168c6367>\u001b[0m in \u001b[0;36m<module>\u001b[0;34m()\u001b[0m\n\u001b[1;32m      2\u001b[0m \u001b[0;32mfrom\u001b[0m \u001b[0mmath\u001b[0m \u001b[0;32mimport\u001b[0m \u001b[0mexp\u001b[0m\u001b[0;34m\u001b[0m\u001b[0m\n\u001b[1;32m      3\u001b[0m \u001b[0;32mfor\u001b[0m \u001b[0mi\u001b[0m \u001b[0;32min\u001b[0m \u001b[0mcomplete\u001b[0m\u001b[0;34m[\u001b[0m\u001b[0;34m'log_price'\u001b[0m\u001b[0;34m]\u001b[0m\u001b[0;34m:\u001b[0m\u001b[0;34m\u001b[0m\u001b[0m\n\u001b[0;32m----> 4\u001b[0;31m     \u001b[0mcomplete\u001b[0m\u001b[0;34m[\u001b[0m\u001b[0;34m'norm_price'\u001b[0m\u001b[0;34m]\u001b[0m \u001b[0;34m=\u001b[0m \u001b[0mexp\u001b[0m\u001b[0;34m(\u001b[0m\u001b[0mcomplete\u001b[0m\u001b[0;34m[\u001b[0m\u001b[0;34m'log_price'\u001b[0m\u001b[0;34m]\u001b[0m\u001b[0;34m)\u001b[0m\u001b[0;34m\u001b[0m\u001b[0m\n\u001b[0m",
      "\u001b[0;32m/anaconda3/lib/python3.6/site-packages/pandas/core/series.py\u001b[0m in \u001b[0;36mwrapper\u001b[0;34m(self)\u001b[0m\n\u001b[1;32m    115\u001b[0m             \u001b[0;32mreturn\u001b[0m \u001b[0mconverter\u001b[0m\u001b[0;34m(\u001b[0m\u001b[0mself\u001b[0m\u001b[0;34m.\u001b[0m\u001b[0miloc\u001b[0m\u001b[0;34m[\u001b[0m\u001b[0;36m0\u001b[0m\u001b[0;34m]\u001b[0m\u001b[0;34m)\u001b[0m\u001b[0;34m\u001b[0m\u001b[0m\n\u001b[1;32m    116\u001b[0m         raise TypeError(\"cannot convert the series to \"\n\u001b[0;32m--> 117\u001b[0;31m                         \"{0}\".format(str(converter)))\n\u001b[0m\u001b[1;32m    118\u001b[0m \u001b[0;34m\u001b[0m\u001b[0m\n\u001b[1;32m    119\u001b[0m     \u001b[0;32mreturn\u001b[0m \u001b[0mwrapper\u001b[0m\u001b[0;34m\u001b[0m\u001b[0m\n",
      "\u001b[0;31mTypeError\u001b[0m: cannot convert the series to <class 'float'>"
     ]
    }
   ],
   "source": [
    "# Trying to convert log_price to norm_price so I can graph review ratings vs. price in a linear fashion. \n",
    "pd.to_numeric(complete['log_price'])\n",
    "from math import exp\n",
    "for i in complete['log_price']:\n",
    "    complete['norm_price'] = exp(complete['log_price'])"
   ]
  },
  {
   "cell_type": "code",
   "execution_count": 81,
   "metadata": {
    "collapsed": true
   },
   "outputs": [
    {
     "ename": "TypeError",
     "evalue": "cannot convert the series to <class 'float'>",
     "output_type": "error",
     "traceback": [
      "\u001b[0;31m---------------------------------------------------------------------------\u001b[0m",
      "\u001b[0;31mTypeError\u001b[0m                                 Traceback (most recent call last)",
      "\u001b[0;32m<ipython-input-81-2f5d18e52f72>\u001b[0m in \u001b[0;36m<module>\u001b[0;34m()\u001b[0m\n\u001b[0;32m----> 1\u001b[0;31m \u001b[0mdelog\u001b[0m\u001b[0;34m(\u001b[0m\u001b[0;34m)\u001b[0m\u001b[0;34m\u001b[0m\u001b[0m\n\u001b[0m",
      "\u001b[0;32m<ipython-input-80-9cd836283f90>\u001b[0m in \u001b[0;36mdelog\u001b[0;34m()\u001b[0m\n\u001b[1;32m      1\u001b[0m \u001b[0;32mfrom\u001b[0m \u001b[0mmath\u001b[0m \u001b[0;32mimport\u001b[0m \u001b[0mexp\u001b[0m\u001b[0;34m\u001b[0m\u001b[0m\n\u001b[1;32m      2\u001b[0m \u001b[0;32mdef\u001b[0m \u001b[0mdelog\u001b[0m\u001b[0;34m(\u001b[0m\u001b[0;34m)\u001b[0m\u001b[0;34m:\u001b[0m\u001b[0;34m\u001b[0m\u001b[0m\n\u001b[0;32m----> 3\u001b[0;31m     \u001b[0mnorm_price\u001b[0m \u001b[0;34m=\u001b[0m \u001b[0mexp\u001b[0m\u001b[0;34m(\u001b[0m\u001b[0mcomplete\u001b[0m\u001b[0;34m[\u001b[0m\u001b[0;34m'log_price'\u001b[0m\u001b[0;34m]\u001b[0m\u001b[0;34m)\u001b[0m\u001b[0;34m\u001b[0m\u001b[0m\n\u001b[0m\u001b[1;32m      4\u001b[0m     \u001b[0;32mreturn\u001b[0m \u001b[0mnorm_price\u001b[0m\u001b[0;34m\u001b[0m\u001b[0m\n",
      "\u001b[0;32m/anaconda3/lib/python3.6/site-packages/pandas/core/series.py\u001b[0m in \u001b[0;36mwrapper\u001b[0;34m(self)\u001b[0m\n\u001b[1;32m    115\u001b[0m             \u001b[0;32mreturn\u001b[0m \u001b[0mconverter\u001b[0m\u001b[0;34m(\u001b[0m\u001b[0mself\u001b[0m\u001b[0;34m.\u001b[0m\u001b[0miloc\u001b[0m\u001b[0;34m[\u001b[0m\u001b[0;36m0\u001b[0m\u001b[0;34m]\u001b[0m\u001b[0;34m)\u001b[0m\u001b[0;34m\u001b[0m\u001b[0m\n\u001b[1;32m    116\u001b[0m         raise TypeError(\"cannot convert the series to \"\n\u001b[0;32m--> 117\u001b[0;31m                         \"{0}\".format(str(converter)))\n\u001b[0m\u001b[1;32m    118\u001b[0m \u001b[0;34m\u001b[0m\u001b[0m\n\u001b[1;32m    119\u001b[0m     \u001b[0;32mreturn\u001b[0m \u001b[0mwrapper\u001b[0m\u001b[0;34m\u001b[0m\u001b[0m\n",
      "\u001b[0;31mTypeError\u001b[0m: cannot convert the series to <class 'float'>"
     ]
    }
   ],
   "source": [
    "# More of the same. It is definitely a 'type' problem \n",
    "def delog():\n",
    "    norm_price = exp(complete['log_price'])\n",
    "    return norm_price"
   ]
  },
  {
   "cell_type": "code",
   "execution_count": 16,
   "metadata": {},
   "outputs": [
    {
     "data": {
      "image/png": "[encoded data removed]",
      "text/plain": [
       "<Figure size 432x288 with 1 Axes>"
      ]
     },
     "metadata": {},
     "output_type": "display_data"
    }
   ],
   "source": [
    "# \n",
    "norm_log_price = (complete['log_price']-complete['log_price'].mean())/complete['log_price'].std()\n",
    "norm_reviews = (complete['review_scores_rating']-complete['review_scores_rating'].mean())/complete['review_scores_rating'].std()\n",
    "plt.hist(norm_log_price, bins=50, alpha=0.5, label='price')\n",
    "plt.hist(norm_reviews, bins=50, alpha=0.5, label='review scores')\n",
    "plt.legend(loc='upper right')\n",
    "plt.show()"
   ]
  },
  {
   "cell_type": "code",
   "execution_count": null,
   "metadata": {},
   "outputs": [],
   "source": []
  },
  {
   "cell_type": "code",
   "execution_count": null,
   "metadata": {},
   "outputs": [],
   "source": []
  },
  {
   "cell_type": "code",
   "execution_count": null,
   "metadata": {},
   "outputs": [],
   "source": []
  }
 ],
 "metadata": {
  "kernelspec": {
   "display_name": "Python 3",
   "language": "python",
   "name": "python3"
  },
  "language_info": {
   "codemirror_mode": {
    "name": "ipython",
    "version": 3
   },
   "file_extension": ".py",
   "mimetype": "text/x-python",
   "name": "python",
   "nbconvert_exporter": "python",
   "pygments_lexer": "ipython3",
   "version": "3.6.5"
  }
 },
 "nbformat": 4,
 "nbformat_minor": 2
}
